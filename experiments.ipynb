{
 "cells": [
  {
   "cell_type": "code",
   "execution_count": 2,
   "metadata": {},
   "outputs": [
    {
     "data": {
      "text/plain": [
       "(40,\n",
       " ['Alarm_Clock',\n",
       "  'Backpack',\n",
       "  'Batteries',\n",
       "  'Bed',\n",
       "  'Bike',\n",
       "  'Bottle',\n",
       "  'Bucket',\n",
       "  'Calculator',\n",
       "  'Calendar',\n",
       "  'Candles',\n",
       "  'Chair',\n",
       "  'Clipboards',\n",
       "  'Computer',\n",
       "  'Couch',\n",
       "  'Curtains',\n",
       "  'Desk_Lamp',\n",
       "  'Drill',\n",
       "  'Eraser',\n",
       "  'Exit_Sign',\n",
       "  'Fan',\n",
       "  'File_Cabinet',\n",
       "  'Flipflops',\n",
       "  'Flowers',\n",
       "  'Folder',\n",
       "  'Fork',\n",
       "  'Glasses',\n",
       "  'Hammer',\n",
       "  'Helmet',\n",
       "  'Kettle',\n",
       "  'Keyboard',\n",
       "  'Knives',\n",
       "  'Lamp_Shade',\n",
       "  'Laptop',\n",
       "  'Marker',\n",
       "  'Monitor',\n",
       "  'Mop',\n",
       "  'Mouse',\n",
       "  'Mug',\n",
       "  'Notebook',\n",
       "  'Oven'])"
      ]
     },
     "execution_count": 2,
     "metadata": {},
     "output_type": "execute_result"
    }
   ],
   "source": [
    "import pandas as pd \n",
    "import json\n",
    "import os \n",
    "from os.path import join\n",
    "import random\n",
    "\n",
    "train_classes = sorted(os.listdir('OfficeHomeDataset_10072016/Real World'))[:40]\n",
    "len(train_classes), train_classes"
   ]
  },
  {
   "cell_type": "code",
   "execution_count": 3,
   "metadata": {},
   "outputs": [],
   "source": [
    "mapping = {k:i for i,k in enumerate(train_classes)}"
   ]
  },
  {
   "cell_type": "code",
   "execution_count": 4,
   "metadata": {},
   "outputs": [],
   "source": [
    "frames = []\n",
    "for clas in train_classes:\n",
    "    path = join('OfficeHomeDataset_10072016/Real World',clas)\n",
    "    for image in os.listdir(path):\n",
    "        frames.append(pd.DataFrame({\n",
    "            'image':join(path, image),\n",
    "            'label_name':clas,\n",
    "            'label':mapping[clas]\n",
    "        }, index = [0]))"
   ]
  },
  {
   "cell_type": "code",
   "execution_count": 5,
   "metadata": {},
   "outputs": [
    {
     "data": {
      "text/html": [
       "<div>\n",
       "<style scoped>\n",
       "    .dataframe tbody tr th:only-of-type {\n",
       "        vertical-align: middle;\n",
       "    }\n",
       "\n",
       "    .dataframe tbody tr th {\n",
       "        vertical-align: top;\n",
       "    }\n",
       "\n",
       "    .dataframe thead th {\n",
       "        text-align: right;\n",
       "    }\n",
       "</style>\n",
       "<table border=\"1\" class=\"dataframe\">\n",
       "  <thead>\n",
       "    <tr style=\"text-align: right;\">\n",
       "      <th></th>\n",
       "      <th>image</th>\n",
       "      <th>label_name</th>\n",
       "      <th>label</th>\n",
       "    </tr>\n",
       "  </thead>\n",
       "  <tbody>\n",
       "    <tr>\n",
       "      <th>0</th>\n",
       "      <td>OfficeHomeDataset_10072016/Real World/Alarm_Cl...</td>\n",
       "      <td>Alarm_Clock</td>\n",
       "      <td>0</td>\n",
       "    </tr>\n",
       "    <tr>\n",
       "      <th>1</th>\n",
       "      <td>OfficeHomeDataset_10072016/Real World/Alarm_Cl...</td>\n",
       "      <td>Alarm_Clock</td>\n",
       "      <td>0</td>\n",
       "    </tr>\n",
       "    <tr>\n",
       "      <th>2</th>\n",
       "      <td>OfficeHomeDataset_10072016/Real World/Alarm_Cl...</td>\n",
       "      <td>Alarm_Clock</td>\n",
       "      <td>0</td>\n",
       "    </tr>\n",
       "    <tr>\n",
       "      <th>3</th>\n",
       "      <td>OfficeHomeDataset_10072016/Real World/Alarm_Cl...</td>\n",
       "      <td>Alarm_Clock</td>\n",
       "      <td>0</td>\n",
       "    </tr>\n",
       "    <tr>\n",
       "      <th>4</th>\n",
       "      <td>OfficeHomeDataset_10072016/Real World/Alarm_Cl...</td>\n",
       "      <td>Alarm_Clock</td>\n",
       "      <td>0</td>\n",
       "    </tr>\n",
       "    <tr>\n",
       "      <th>...</th>\n",
       "      <td>...</td>\n",
       "      <td>...</td>\n",
       "      <td>...</td>\n",
       "    </tr>\n",
       "    <tr>\n",
       "      <th>2743</th>\n",
       "      <td>OfficeHomeDataset_10072016/Real World/Oven/000...</td>\n",
       "      <td>Oven</td>\n",
       "      <td>39</td>\n",
       "    </tr>\n",
       "    <tr>\n",
       "      <th>2744</th>\n",
       "      <td>OfficeHomeDataset_10072016/Real World/Oven/000...</td>\n",
       "      <td>Oven</td>\n",
       "      <td>39</td>\n",
       "    </tr>\n",
       "    <tr>\n",
       "      <th>2745</th>\n",
       "      <td>OfficeHomeDataset_10072016/Real World/Oven/000...</td>\n",
       "      <td>Oven</td>\n",
       "      <td>39</td>\n",
       "    </tr>\n",
       "    <tr>\n",
       "      <th>2746</th>\n",
       "      <td>OfficeHomeDataset_10072016/Real World/Oven/000...</td>\n",
       "      <td>Oven</td>\n",
       "      <td>39</td>\n",
       "    </tr>\n",
       "    <tr>\n",
       "      <th>2747</th>\n",
       "      <td>OfficeHomeDataset_10072016/Real World/Oven/000...</td>\n",
       "      <td>Oven</td>\n",
       "      <td>39</td>\n",
       "    </tr>\n",
       "  </tbody>\n",
       "</table>\n",
       "<p>2748 rows × 3 columns</p>\n",
       "</div>"
      ],
      "text/plain": [
       "                                                  image   label_name  label\n",
       "0     OfficeHomeDataset_10072016/Real World/Alarm_Cl...  Alarm_Clock      0\n",
       "1     OfficeHomeDataset_10072016/Real World/Alarm_Cl...  Alarm_Clock      0\n",
       "2     OfficeHomeDataset_10072016/Real World/Alarm_Cl...  Alarm_Clock      0\n",
       "3     OfficeHomeDataset_10072016/Real World/Alarm_Cl...  Alarm_Clock      0\n",
       "4     OfficeHomeDataset_10072016/Real World/Alarm_Cl...  Alarm_Clock      0\n",
       "...                                                 ...          ...    ...\n",
       "2743  OfficeHomeDataset_10072016/Real World/Oven/000...         Oven     39\n",
       "2744  OfficeHomeDataset_10072016/Real World/Oven/000...         Oven     39\n",
       "2745  OfficeHomeDataset_10072016/Real World/Oven/000...         Oven     39\n",
       "2746  OfficeHomeDataset_10072016/Real World/Oven/000...         Oven     39\n",
       "2747  OfficeHomeDataset_10072016/Real World/Oven/000...         Oven     39\n",
       "\n",
       "[2748 rows x 3 columns]"
      ]
     },
     "execution_count": 5,
     "metadata": {},
     "output_type": "execute_result"
    }
   ],
   "source": [
    "df = pd.concat(frames).reset_index(drop = True)\n",
    "# .to_csv('OfficeHomeDataset_10072016/train.csv', index = False)\n",
    "df"
   ]
  },
  {
   "cell_type": "code",
   "execution_count": 6,
   "metadata": {},
   "outputs": [],
   "source": [
    "val_df = df.sample(frac=0.2, replace = False)\n",
    "train_df = df[~df['image'].isin(val_df['image'].values)]"
   ]
  },
  {
   "cell_type": "code",
   "execution_count": 7,
   "metadata": {},
   "outputs": [
    {
     "data": {
      "text/plain": [
       "((550, 3), (2198, 3))"
      ]
     },
     "execution_count": 7,
     "metadata": {},
     "output_type": "execute_result"
    }
   ],
   "source": [
    "val_df.shape, train_df.shape"
   ]
  },
  {
   "cell_type": "code",
   "execution_count": 8,
   "metadata": {},
   "outputs": [],
   "source": [
    "train_df.to_csv('OfficeHomeDataset_10072016/train.csv', index = False)\n",
    "val_df.to_csv('OfficeHomeDataset_10072016/val.csv', index = False)\n",
    "df.to_csv('OfficeHomeDataset_10072016/train_2.csv', index = False)"
   ]
  },
  {
   "cell_type": "code",
   "execution_count": 9,
   "metadata": {},
   "outputs": [
    {
     "data": {
      "text/plain": [
       "65"
      ]
     },
     "execution_count": 9,
     "metadata": {},
     "output_type": "execute_result"
    }
   ],
   "source": [
    "val_classes = sorted(os.listdir('/Users/sarthakm/Desktop/biplabsir_research/gcd/OfficeHomeDataset_10072016/Clipart'))\n",
    "len(val_classes)"
   ]
  },
  {
   "cell_type": "code",
   "execution_count": 10,
   "metadata": {},
   "outputs": [],
   "source": [
    "mapping = {k:i for i,k in enumerate(val_classes)}"
   ]
  },
  {
   "cell_type": "code",
   "execution_count": 11,
   "metadata": {},
   "outputs": [],
   "source": [
    "frames = []\n",
    "for clas in val_classes:\n",
    "    path = join('OfficeHomeDataset_10072016/Clipart',clas)\n",
    "    for image in os.listdir(path):\n",
    "        frames.append(pd.DataFrame({\n",
    "            'image':join(path, image),\n",
    "            'label_name':clas,\n",
    "            'label':mapping[clas]\n",
    "        }, index = [0]))"
   ]
  },
  {
   "cell_type": "code",
   "execution_count": 12,
   "metadata": {},
   "outputs": [],
   "source": [
    "pd.concat(frames).to_csv('OfficeHomeDataset_10072016/test.csv', index = False)\n"
   ]
  },
  {
   "cell_type": "code",
   "execution_count": null,
   "metadata": {},
   "outputs": [],
   "source": []
  },
  {
   "cell_type": "code",
   "execution_count": 3,
   "metadata": {},
   "outputs": [
    {
     "name": "stderr",
     "output_type": "stream",
     "text": [
      "/tmp/ipykernel_2712296/1846994787.py:22: MatplotlibDeprecationWarning: Auto-removal of overlapping axes is deprecated since 3.6 and will be removed two minor releases later; explicitly call ax.remove() as needed.\n",
      "  plt.subplot(1,2,2)\n"
     ]
    },
    {
     "data": {
      "image/png": "[encoded data removed]",
      "text/plain": [
       "<Figure size 800x400 with 2 Axes>"
      ]
     },
     "metadata": {},
     "output_type": "display_data"
    }
   ],
   "source": [
    "import numpy as np \n",
    "import matplotlib.pyplot as plt \n",
    " \n",
    "# set width of bar \n",
    "barWidth = 0.25\n",
    "fig = plt.subplots(figsize =(8, 4)) \n",
    " \n",
    "# set height of bar \n",
    "simgcd = [35.33,44.78,52]\n",
    "gcd = [36.7,45.4,53]\n",
    "ours = [42.3,51.8,57]\n",
    "\n",
    "gcd_dn = [50.92,55.8,60.07]\n",
    "simgcd_dn = [54.57,62.6,66.53]\n",
    "ours_dn = [62.4,68.57,72.34]\n",
    " \n",
    "# Set position of bar on X axis \n",
    "br1 = np.arange(len(gcd)) \n",
    "br2 = [x + barWidth for x in br1] \n",
    "br3 = [x + barWidth for x in br2] \n",
    " \n",
    "plt.subplot(1,2,2)\n",
    "# Make the plot\n",
    "plt.bar(br1, ours, color ='maroon', width = barWidth, \n",
    "        edgecolor ='grey', label ='CDAD-Net (Ours)') \n",
    "plt.bar(br2, gcd, color ='pink', width = barWidth, \n",
    "        edgecolor ='grey', label ='GCD+OSDA') \n",
    "plt.bar(br3, simgcd, color ='yellow', width = barWidth, \n",
    "        edgecolor ='grey', label ='SIMGCD+OSDA') \n",
    "\n",
    " \n",
    "# Adding Xticks \n",
    "plt.xlabel('Known:Unknown (OfficeHome)', fontsize = 10) \n",
    "plt.ylabel('Accuracy (ALL)',  fontsize = 10) \n",
    "plt.xticks([r + barWidth for r in range(len(gcd))], \n",
    "        ['0.3', '0.625', '1.167'])\n",
    "plt.yticks([30,40,50,60])\n",
    "\n",
    "plt.ylim(29,60)\n",
    "plt.legend()\n",
    "plt.grid(axis='y')\n",
    "\n",
    "\n",
    "plt.subplot(1,2,1)\n",
    "# Make the plot\n",
    "plt.bar(br1, ours_dn, color ='maroon', width = barWidth, \n",
    "        edgecolor ='grey', label ='CDAD-Net (Ours)') \n",
    "plt.bar(br2, simgcd_dn, color ='yellow', width = barWidth, \n",
    "        edgecolor ='grey', label ='SIMGCD+OSDA') \n",
    "plt.bar(br3, gcd_dn, color ='pink', width = barWidth, \n",
    "        edgecolor ='grey', label ='GCD+OSDA') \n",
    "\n",
    "\n",
    " \n",
    "# Adding Xticks \n",
    "plt.xlabel('Known:Unknown (DomainNet)', fontsize = 10) \n",
    "plt.ylabel('Accuracy (ALL)',  fontsize = 10) \n",
    "plt.xticks([r + barWidth for r in range(len(gcd))], \n",
    "        ['0.3', '0.625', '1.167'])\n",
    "plt.yticks([30,40,50,60,70,80])\n",
    "\n",
    "plt.ylim(33,85)\n",
    "plt.legend(loc='upper left')\n",
    "plt.grid(axis='y')\n",
    "plt.show() "
   ]
  },
  {
   "cell_type": "code",
   "execution_count": 5,
   "metadata": {},
   "outputs": [
    {
     "data": {
      "text/plain": [
       "<matplotlib.legend.Legend at 0x7f74ec754eb0>"
      ]
     },
     "execution_count": 5,
     "metadata": {},
     "output_type": "execute_result"
    },
    {
     "data": {
      "image/png": "[encoded data removed]",
      "text/plain": [
       "<Figure size 640x480 with 1 Axes>"
      ]
     },
     "metadata": {},
     "output_type": "display_data"
    }
   ],
   "source": [
    "import matplotlib.pyplot as plt\n",
    "\n",
    "all = [73.1, 67.41, 65.07, 61.58]\n",
    "old = [78.35,75.51,71.98,67.29]\n",
    "new = [64.14,53.57,53.26,51.83]\n",
    "\n",
    "plt.plot([1,3,5,10], all, linestyle='--', marker='o', color='g',label='All')\n",
    "plt.plot([1,3,5,10], old, linestyle='--', marker='o', color='orange',label='Old')\n",
    "plt.plot([1,3,5,10], new, linestyle='--', marker='o', color='b',label='New')\n",
    "\n",
    "plt.xlabel('Number of Patches',fontsize=12)\n",
    "plt.ylabel('Accuracy',fontsize=12)\n",
    "plt.xlim(0.5,10.5)\n",
    "plt.xticks(range(1,11))\n",
    "plt.grid()\n",
    "plt.legend()"
   ]
  },
  {
   "cell_type": "code",
   "execution_count": null,
   "metadata": {},
   "outputs": [],
   "source": []
  }
 ],
 "metadata": {
  "kernelspec": {
   "display_name": "gcd",
   "language": "python",
   "name": "python3"
  },
  "language_info": {
   "codemirror_mode": {
    "name": "ipython",
    "version": 3
   },
   "file_extension": ".py",
   "mimetype": "text/x-python",
   "name": "python",
   "nbconvert_exporter": "python",
   "pygments_lexer": "ipython3",
   "version": "3.8.18"
  }
 },
 "nbformat": 4,
 "nbformat_minor": 2
}
