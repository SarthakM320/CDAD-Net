{
 "cells": [
  {
   "cell_type": "code",
   "execution_count": 2,
   "metadata": {},
   "outputs": [
    {
     "data": {
      "text/plain": [
       "(40,\n",
       " ['Alarm_Clock',\n",
       "  'Backpack',\n",
       "  'Batteries',\n",
       "  'Bed',\n",
       "  'Bike',\n",
       "  'Bottle',\n",
       "  'Bucket',\n",
       "  'Calculator',\n",
       "  'Calendar',\n",
       "  'Candles',\n",
       "  'Chair',\n",
       "  'Clipboards',\n",
       "  'Computer',\n",
       "  'Couch',\n",
       "  'Curtains',\n",
       "  'Desk_Lamp',\n",
       "  'Drill',\n",
       "  'Eraser',\n",
       "  'Exit_Sign',\n",
       "  'Fan',\n",
       "  'File_Cabinet',\n",
       "  'Flipflops',\n",
       "  'Flowers',\n",
       "  'Folder',\n",
       "  'Fork',\n",
       "  'Glasses',\n",
       "  'Hammer',\n",
       "  'Helmet',\n",
       "  'Kettle',\n",
       "  'Keyboard',\n",
       "  'Knives',\n",
       "  'Lamp_Shade',\n",
       "  'Laptop',\n",
       "  'Marker',\n",
       "  'Monitor',\n",
       "  'Mop',\n",
       "  'Mouse',\n",
       "  'Mug',\n",
       "  'Notebook',\n",
       "  'Oven'])"
      ]
     },
     "execution_count": 2,
     "metadata": {},
     "output_type": "execute_result"
    }
   ],
   "source": [
    "import pandas as pd \n",
    "import json\n",
    "import os \n",
    "from os.path import join\n",
    "import random\n",
    "\n",
    "train_classes = sorted(os.listdir('OfficeHomeDataset_10072016/Real World'))[:40]\n",
    "len(train_classes), train_classes"
   ]
  },
  {
   "cell_type": "code",
   "execution_count": 3,
   "metadata": {},
   "outputs": [],
   "source": [
    "mapping = {k:i for i,k in enumerate(train_classes)}"
   ]
  },
  {
   "cell_type": "code",
   "execution_count": 4,
   "metadata": {},
   "outputs": [],
   "source": [
    "frames = []\n",
    "for clas in train_classes:\n",
    "    path = join('OfficeHomeDataset_10072016/Real World',clas)\n",
    "    for image in os.listdir(path):\n",
    "        frames.append(pd.DataFrame({\n",
    "            'image':join(path, image),\n",
    "            'label_name':clas,\n",
    "            'label':mapping[clas]\n",
    "        }, index = [0]))"
   ]
  },
  {
   "cell_type": "code",
   "execution_count": 5,
   "metadata": {},
   "outputs": [
    {
     "data": {
      "text/html": [
       "<div>\n",
       "<style scoped>\n",
       "    .dataframe tbody tr th:only-of-type {\n",
       "        vertical-align: middle;\n",
       "    }\n",
       "\n",
       "    .dataframe tbody tr th {\n",
       "        vertical-align: top;\n",
       "    }\n",
       "\n",
       "    .dataframe thead th {\n",
       "        text-align: right;\n",
       "    }\n",
       "</style>\n",
       "<table border=\"1\" class=\"dataframe\">\n",
       "  <thead>\n",
       "    <tr style=\"text-align: right;\">\n",
       "      <th></th>\n",
       "      <th>image</th>\n",
       "      <th>label_name</th>\n",
       "      <th>label</th>\n",
       "    </tr>\n",
       "  </thead>\n",
       "  <tbody>\n",
       "    <tr>\n",
       "      <th>0</th>\n",
       "      <td>OfficeHomeDataset_10072016/Real World/Alarm_Cl...</td>\n",
       "      <td>Alarm_Clock</td>\n",
       "      <td>0</td>\n",
       "    </tr>\n",
       "    <tr>\n",
       "      <th>1</th>\n",
       "      <td>OfficeHomeDataset_10072016/Real World/Alarm_Cl...</td>\n",
       "      <td>Alarm_Clock</td>\n",
       "      <td>0</td>\n",
       "    </tr>\n",
       "    <tr>\n",
       "      <th>2</th>\n",
       "      <td>OfficeHomeDataset_10072016/Real World/Alarm_Cl...</td>\n",
       "      <td>Alarm_Clock</td>\n",
       "      <td>0</td>\n",
       "    </tr>\n",
       "    <tr>\n",
       "      <th>3</th>\n",
       "      <td>OfficeHomeDataset_10072016/Real World/Alarm_Cl...</td>\n",
       "      <td>Alarm_Clock</td>\n",
       "      <td>0</td>\n",
       "    </tr>\n",
       "    <tr>\n",
       "      <th>4</th>\n",
       "      <td>OfficeHomeDataset_10072016/Real World/Alarm_Cl...</td>\n",
       "      <td>Alarm_Clock</td>\n",
       "      <td>0</td>\n",
       "    </tr>\n",
       "    <tr>\n",
       "      <th>...</th>\n",
       "      <td>...</td>\n",
       "      <td>...</td>\n",
       "      <td>...</td>\n",
       "    </tr>\n",
       "    <tr>\n",
       "      <th>2743</th>\n",
       "      <td>OfficeHomeDataset_10072016/Real World/Oven/000...</td>\n",
       "      <td>Oven</td>\n",
       "      <td>39</td>\n",
       "    </tr>\n",
       "    <tr>\n",
       "      <th>2744</th>\n",
       "      <td>OfficeHomeDataset_10072016/Real World/Oven/000...</td>\n",
       "      <td>Oven</td>\n",
       "      <td>39</td>\n",
       "    </tr>\n",
       "    <tr>\n",
       "      <th>2745</th>\n",
       "      <td>OfficeHomeDataset_10072016/Real World/Oven/000...</td>\n",
       "      <td>Oven</td>\n",
       "      <td>39</td>\n",
       "    </tr>\n",
       "    <tr>\n",
       "      <th>2746</th>\n",
       "      <td>OfficeHomeDataset_10072016/Real World/Oven/000...</td>\n",
       "      <td>Oven</td>\n",
       "      <td>39</td>\n",
       "    </tr>\n",
       "    <tr>\n",
       "      <th>2747</th>\n",
       "      <td>OfficeHomeDataset_10072016/Real World/Oven/000...</td>\n",
       "      <td>Oven</td>\n",
       "      <td>39</td>\n",
       "    </tr>\n",
       "  </tbody>\n",
       "</table>\n",
       "<p>2748 rows × 3 columns</p>\n",
       "</div>"
      ],
      "text/plain": [
       "                                                  image   label_name  label\n",
       "0     OfficeHomeDataset_10072016/Real World/Alarm_Cl...  Alarm_Clock      0\n",
       "1     OfficeHomeDataset_10072016/Real World/Alarm_Cl...  Alarm_Clock      0\n",
       "2     OfficeHomeDataset_10072016/Real World/Alarm_Cl...  Alarm_Clock      0\n",
       "3     OfficeHomeDataset_10072016/Real World/Alarm_Cl...  Alarm_Clock      0\n",
       "4     OfficeHomeDataset_10072016/Real World/Alarm_Cl...  Alarm_Clock      0\n",
       "...                                                 ...          ...    ...\n",
       "2743  OfficeHomeDataset_10072016/Real World/Oven/000...         Oven     39\n",
       "2744  OfficeHomeDataset_10072016/Real World/Oven/000...         Oven     39\n",
       "2745  OfficeHomeDataset_10072016/Real World/Oven/000...         Oven     39\n",
       "2746  OfficeHomeDataset_10072016/Real World/Oven/000...         Oven     39\n",
       "2747  OfficeHomeDataset_10072016/Real World/Oven/000...         Oven     39\n",
       "\n",
       "[2748 rows x 3 columns]"
      ]
     },
     "execution_count": 5,
     "metadata": {},
     "output_type": "execute_result"
    }
   ],
   "source": [
    "df = pd.concat(frames).reset_index(drop = True)\n",
    "# .to_csv('OfficeHomeDataset_10072016/train.csv', index = False)\n",
    "df"
   ]
  },
  {
   "cell_type": "code",
   "execution_count": 6,
   "metadata": {},
   "outputs": [],
   "source": [
    "val_df = df.sample(frac=0.2, replace = False)\n",
    "train_df = df[~df['image'].isin(val_df['image'].values)]"
   ]
  },
  {
   "cell_type": "code",
   "execution_count": 7,
   "metadata": {},
   "outputs": [
    {
     "data": {
      "text/plain": [
       "((550, 3), (2198, 3))"
      ]
     },
     "execution_count": 7,
     "metadata": {},
     "output_type": "execute_result"
    }
   ],
   "source": [
    "val_df.shape, train_df.shape"
   ]
  },
  {
   "cell_type": "code",
   "execution_count": 8,
   "metadata": {},
   "outputs": [],
   "source": [
    "train_df.to_csv('OfficeHomeDataset_10072016/train.csv', index = False)\n",
    "val_df.to_csv('OfficeHomeDataset_10072016/val.csv', index = False)\n",
    "df.to_csv('OfficeHomeDataset_10072016/train_2.csv', index = False)"
   ]
  },
  {
   "cell_type": "code",
   "execution_count": 9,
   "metadata": {},
   "outputs": [
    {
     "data": {
      "text/plain": [
       "65"
      ]
     },
     "execution_count": 9,
     "metadata": {},
     "output_type": "execute_result"
    }
   ],
   "source": [
    "val_classes = sorted(os.listdir('/Users/sarthakm/Desktop/biplabsir_research/gcd/OfficeHomeDataset_10072016/Clipart'))\n",
    "len(val_classes)"
   ]
  },
  {
   "cell_type": "code",
   "execution_count": 10,
   "metadata": {},
   "outputs": [],
   "source": [
    "mapping = {k:i for i,k in enumerate(val_classes)}"
   ]
  },
  {
   "cell_type": "code",
   "execution_count": 11,
   "metadata": {},
   "outputs": [],
   "source": [
    "frames = []\n",
    "for clas in val_classes:\n",
    "    path = join('OfficeHomeDataset_10072016/Clipart',clas)\n",
    "    for image in os.listdir(path):\n",
    "        frames.append(pd.DataFrame({\n",
    "            'image':join(path, image),\n",
    "            'label_name':clas,\n",
    "            'label':mapping[clas]\n",
    "        }, index = [0]))"
   ]
  },
  {
   "cell_type": "code",
   "execution_count": 12,
   "metadata": {},
   "outputs": [],
   "source": [
    "pd.concat(frames).to_csv('OfficeHomeDataset_10072016/test.csv', index = False)\n"
   ]
  },
  {
   "cell_type": "code",
   "execution_count": null,
   "metadata": {},
   "outputs": [],
   "source": []
  },
  {
   "cell_type": "code",
   "execution_count": null,
   "metadata": {},
   "outputs": [],
   "source": []
  }
 ],
 "metadata": {
  "kernelspec": {
   "display_name": "gcd",
   "language": "python",
   "name": "python3"
  },
  "language_info": {
   "codemirror_mode": {
    "name": "ipython",
    "version": 3
   },
   "file_extension": ".py",
   "mimetype": "text/x-python",
   "name": "python",
   "nbconvert_exporter": "python",
   "pygments_lexer": "ipython3",
   "version": "3.12.1"
  }
 },
 "nbformat": 4,
 "nbformat_minor": 2
}
